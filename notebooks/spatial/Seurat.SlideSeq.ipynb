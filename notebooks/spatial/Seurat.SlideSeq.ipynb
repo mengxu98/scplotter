{
 "cells": [
  {
   "cell_type": "markdown",
   "id": "86c68b2d",
   "metadata": {},
   "source": [
    "# scplotter to work with SlideSeq data prepared by Seurat\n",
    "\n",
    "See: <https://satijalab.org/seurat/articles/spatial_vignette#slide-seq>\n",
    "\n",
    "Go back to scplotter documentation: <https://pwwang.github.io/scplotter/>"
   ]
  },
  {
   "cell_type": "code",
   "execution_count": 1,
   "id": "016e7f4c",
   "metadata": {
    "vscode": {
     "languageId": "r"
    }
   },
   "outputs": [
    {
     "name": "stderr",
     "output_type": "stream",
     "text": [
      "\u001b[1m\u001b[22m\u001b[36mℹ\u001b[39m Loading \u001b[34mscplotter\u001b[39m\n"
     ]
    },
    {
     "ename": "",
     "evalue": "",
     "output_type": "error",
     "traceback": [
      "\u001b[1;31mThe Kernel crashed while executing code in the current cell or a previous cell. \n",
      "\u001b[1;31mPlease review the code in the cell(s) to identify a possible cause of the failure. \n",
      "\u001b[1;31mClick <a href='https://aka.ms/vscodeJupyterKernelCrash'>here</a> for more info. \n",
      "\u001b[1;31mView Jupyter <a href='command:jupyter.viewOutput'>log</a> for further details."
     ]
    }
   ],
   "source": [
    "suppressPackageStartupMessages({\n",
    "    library(Seurat)\n",
    "    library(SeuratData)\n",
    "})\n",
    "# Load the scplotter package\n",
    "# library(scplotter)\n",
    "devtools::load_all()\n",
    "\n",
    "suppressWarnings(suppressMessages({\n",
    "    # InstallData(\"ssHippo\")\n",
    "\n",
    "    slide.seq <- LoadData(\"ssHippo\")\n",
    "    slide.seq <- SCTransform(slide.seq, assay = \"Spatial\", ncells = 3000, verbose = FALSE)\n",
    "    slide.seq <- RunPCA(slide.seq)\n",
    "    slide.seq <- RunUMAP(slide.seq, dims = 1:30)\n",
    "    slide.seq <- FindNeighbors(slide.seq, dims = 1:30)\n",
    "    slide.seq <- FindClusters(slide.seq, resolution = 0.3, verbose = FALSE)\n",
    "}))\n",
    "slide.seq"
   ]
  },
  {
   "cell_type": "code",
   "execution_count": null,
   "id": "29837852",
   "metadata": {
    "vscode": {
     "languageId": "r"
    }
   },
   "outputs": [],
   "source": [
    "slide.seq$log_nCount_Spatial <- log(slide.seq$nCount_Spatial)\n",
    "p1 <- FeatureStatPlot(slide.seq, features = \"log_nCount_Spatial\",\n",
    "    ident = \"orig.ident\", add_point = TRUE, legend.position = \"none\")\n",
    "p2 <- SpatialFeaturePlot(slide.seq, features = \"log_nCount_Spatial\")\n",
    "\n",
    "p1 + p2"
   ]
  }
 ],
 "metadata": {
  "kernelspec": {
   "display_name": "R 4.4",
   "language": "R",
   "name": "ir44"
  },
  "language_info": {
   "codemirror_mode": "r",
   "file_extension": ".r",
   "mimetype": "text/x-r-source",
   "name": "R",
   "pygments_lexer": "r",
   "version": "4.4.3"
  }
 },
 "nbformat": 4,
 "nbformat_minor": 5
}
